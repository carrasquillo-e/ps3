{
 "cells": [
  {
   "cell_type": "code",
   "execution_count": 3,
   "id": "45144eab-e08d-4985-9077-f098607df889",
   "metadata": {
    "tags": []
   },
   "outputs": [
    {
     "name": "stdout",
     "output_type": "stream",
     "text": [
      "The highest observed tide level was 13.1 ft, observed on 2024/09/27 at 04:42 GMT.\n"
     ]
    }
   ],
   "source": [
    "import csv\n",
    "\n",
    "# Initialize variables to store the highest tide level and corresponding date and time\n",
    "highest_tide = -float('inf')  # Start with a very low number\n",
    "highest_tide_time = None\n",
    "\n",
    "# Open the CSV file\n",
    "with open('/blue/bsc4452/share/Class_Files/data/CO-OPS_8727520_wl.csv', 'r') as file:\n",
    "    reader = csv.DictReader(file)\n",
    "    \n",
    "    # Loop through each row in the file\n",
    "    for row in reader:\n",
    "        try:\n",
    "            # Get the observed preliminary tide level\n",
    "            preliminary_tide = float(row['Preliminary (ft)'])\n",
    "            \n",
    "            # Check if this is the highest tide level encountered so far\n",
    "            if preliminary_tide > highest_tide:\n",
    "                highest_tide = preliminary_tide\n",
    "                highest_tide_time = (row['Date'], row['Time (GMT)'])\n",
    "        except ValueError:\n",
    "            # Handle cases where data is missing or cannot be converted to float\n",
    "            continue\n",
    "\n",
    "# After the loop, print the highest tide and the corresponding time\n",
    "if highest_tide_time:\n",
    "    print(f\"The highest observed tide level was {highest_tide} ft, observed on {highest_tide_time[0]} at {highest_tide_time[1]} GMT.\")\n",
    "else:\n",
    "    print(\"No valid tide data was found.\")"
   ]
  },
  {
   "cell_type": "code",
   "execution_count": 3,
   "id": "57b8b284-e900-4f02-a208-567d8346749c",
   "metadata": {
    "tags": []
   },
   "outputs": [
    {
     "name": "stdout",
     "output_type": "stream",
     "text": [
      "The highest observed tide level was 13.1 ft, observed on 2024/09/27 at 04:42GMT.\n",
      "The lowest observed tide level was 1.53 ft, observed on 2024/09/27 at 23:00 GMT.\n",
      "The average observed tide level was 5.6801041666666725 ft\n"
     ]
    }
   ],
   "source": [
    "import csv\n",
    "\n",
    "# Initialize variables to store the highest tide level and corresponding date and time\n",
    "highest_tide = -float('inf')  # Start with a very low number\n",
    "highest_tide_time = None\n",
    "lowest_tide = None\n",
    "lowest_tide_time = None\n",
    "total_tide = 0\n",
    "count = 0\n",
    "\n",
    "# Open the CSV file\n",
    "with open('/blue/bsc4452/share/Class_Files/data/CO-OPS_8727520_wl.csv', 'r') as file:\n",
    "    reader = csv.DictReader(file)\n",
    "    \n",
    "    # Loop through each row in the file\n",
    "    for row in reader:\n",
    "        try:\n",
    "            # Get the observed preliminary tide level\n",
    "            preliminary_tide = float(row['Preliminary (ft)'])\n",
    "            \n",
    "            # Check if this is the highest tide level encountered so far\n",
    "            if preliminary_tide > highest_tide:\n",
    "                highest_tide = preliminary_tide\n",
    "                highest_tide_time = (row['Date'], row['Time (GMT)'])\n",
    "            if lowest_tide == None or preliminary_tide < lowest_tide:\n",
    "                lowest_tide = preliminary_tide\n",
    "                lowest_tide_time = (row['Date'], row['Time (GMT)'])\n",
    "            total_tide = preliminary_tide + total_tide\n",
    "            count += 1\n",
    "        except ValueError:\n",
    "            # Handle cases where data is missing or cannot be converted to float\n",
    "            continue\n",
    "\n",
    "# After the loop, print the highest tide and the corresponding time\n",
    "if highest_tide_time:\n",
    "    print(f\"The highest observed tide level was {highest_tide} ft, observed on {highest_tide_time[0]} at {highest_tide_time[1]}GMT.\")\n",
    "    print(f\"The lowest observed tide level was {lowest_tide} ft, observed on {lowest_tide_time[0]} at {lowest_tide_time[1]} GMT.\")\n",
    "    average_tide = total_tide/count\n",
    "    print(f\"The average observed tide level was {average_tide} ft\")\n",
    "    \n",
    "else:\n",
    "    print(\"No valid tide data was found.\")"
   ]
  },
  {
   "cell_type": "code",
   "execution_count": 8,
   "id": "a2eb251e-d8de-4c83-b376-db25026dcede",
   "metadata": {
    "tags": []
   },
   "outputs": [
    {
     "name": "stdout",
     "output_type": "stream",
     "text": [
      "Biggest change was 9.379999999999999 ft, observed on 2024/09/27 at 04:42 GMT.\n"
     ]
    }
   ],
   "source": [
    "import csv\n",
    "previous_tide = None\n",
    "max_change = None\n",
    "\n",
    "# Open the CSV file\n",
    "with open('/blue/bsc4452/share/Class_Files/data/CO-OPS_8727520_wl.csv', 'r') as file:\n",
    "    reader = csv.DictReader(file)\n",
    "    \n",
    "    # Loop through each row in the file\n",
    "    for row in reader:\n",
    "        try:\n",
    "            # Get the observed preliminary tide level\n",
    "            preliminary_tide = float(row['Preliminary (ft)'])\n",
    "            \n",
    "            if previous_tide == None:\n",
    "                previous_tide = preliminary_tide\n",
    "                continue\n",
    "            tide_change = preliminary_tide - previous_tide\n",
    "            if max_change == None or tide_change > max_change:\n",
    "                max_change = tide_change\n",
    "                tide_change_time = (row['Date'], row['Time (GMT)'])\n",
    "            \n",
    "        except ValueError:\n",
    "            # Handle cases where data is missing or cannot be converted to float\n",
    "            continue\n",
    "\n",
    "print (f\"Biggest change was {max_change} ft, observed on {tide_change_time[0]} at {tide_change_time[1]} GMT.\")"
   ]
  },
  {
   "cell_type": "code",
   "execution_count": null,
   "id": "b4220c37-9ab2-447c-97f8-e756458b5185",
   "metadata": {},
   "outputs": [],
   "source": [
    "import csv\n",
    "previous_tide = None\n",
    "max_change = None\n",
    "\n",
    "# Open the CSV file\n",
    "with open('/blue/bsc4452/share/Class_Files/data/CO-OPS_8727520_wl.csv', 'r') as file:\n",
    "    reader = csv.DictReader(file)\n",
    "    \n",
    "    # Loop through each row in the file\n",
    "    for row in reader:\n",
    "        try:\n",
    "            # Get the observed preliminary tide level\n",
    "            preliminary_tide = float(row['Preliminary (ft)'])\n",
    "            \n",
    "            if previous_tide == None:\n",
    "                previous_tide = preliminary_tide\n",
    "                continue\n",
    "            tide_change = preliminary_tide - previous_tide\n",
    "            if max_change == None or tide_change > max_change:\n",
    "                max_change = tide_change\n",
    "                tide_change_time = (row['Date'], row['Time (GMT)'])\n",
    "            if tide_change > 0.25:\n",
    "                print (f\"Tide rising fast\")\n",
    "            if preliminary_tide > 5.0:\n",
    "                print (f\"Water level over 5ft\")\n",
    "            \n",
    "        except ValueError:\n",
    "            # Handle cases where data is missing or cannot be converted to float\n",
    "            \n",
    "            continue\n",
    "\n",
    "print (f\"Biggest change was {max_change} ft, observed on {tide_change_time[0]} at {tide_change_time[1]} GMT.\")"
   ]
  }
 ],
 "metadata": {
  "kernelspec": {
   "display_name": "UFRC Python-3.10",
   "language": "python",
   "name": "python3-3.10-ufrc"
  },
  "language_info": {
   "codemirror_mode": {
    "name": "ipython",
    "version": 3
   },
   "file_extension": ".py",
   "mimetype": "text/x-python",
   "name": "python",
   "nbconvert_exporter": "python",
   "pygments_lexer": "ipython3",
   "version": "3.10.8"
  }
 },
 "nbformat": 4,
 "nbformat_minor": 5
}
