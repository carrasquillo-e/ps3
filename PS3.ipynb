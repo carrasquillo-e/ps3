{
 "cells": [
  {
   "cell_type": "code",
   "execution_count": 3,
   "id": "45144eab-e08d-4985-9077-f098607df889",
   "metadata": {
    "tags": []
   },
   "outputs": [
    {
     "name": "stdout",
     "output_type": "stream",
     "text": [
      "The highest observed tide level was 13.1 ft, observed on 2024/09/27 at 04:42 GMT.\n"
     ]
    }
   ],
   "source": [
    "import csv\n",
    "\n",
    "# Initialize variables to store the highest tide level and corresponding date and time\n",
    "highest_tide = -float('inf')  # Start with a very low number\n",
    "highest_tide_time = None\n",
    "\n",
    "# Open the CSV file\n",
    "with open('/blue/bsc4452/share/Class_Files/data/CO-OPS_8727520_wl.csv', 'r') as file:\n",
    "    reader = csv.DictReader(file)\n",
    "    \n",
    "    # Loop through each row in the file\n",
    "    for row in reader:\n",
    "        try:\n",
    "            # Get the observed preliminary tide level\n",
    "            preliminary_tide = float(row['Preliminary (ft)'])\n",
    "            \n",
    "            # Check if this is the highest tide level encountered so far\n",
    "            if preliminary_tide > highest_tide:\n",
    "                highest_tide = preliminary_tide\n",
    "                highest_tide_time = (row['Date'], row['Time (GMT)'])\n",
    "        except ValueError:\n",
    "            # Handle cases where data is missing or cannot be converted to float\n",
    "            continue\n",
    "\n",
    "# After the loop, print the highest tide and the corresponding time\n",
    "if highest_tide_time:\n",
    "    print(f\"The highest observed tide level was {highest_tide} ft, observed on {highest_tide_time[0]} at {highest_tide_time[1]} GMT.\")\n",
    "else:\n",
    "    print(\"No valid tide data was found.\")"
   ]
  },
  {
   "cell_type": "code",
   "execution_count": null,
   "id": "603ee97d-ff0f-474a-bbc3-ed1635c8fccc",
   "metadata": {},
   "outputs": [],
   "source": []
  }
 ],
 "metadata": {
  "kernelspec": {
   "display_name": "UFRC Python-3.10",
   "language": "python",
   "name": "python3-3.10-ufrc"
  },
  "language_info": {
   "codemirror_mode": {
    "name": "ipython",
    "version": 3
   },
   "file_extension": ".py",
   "mimetype": "text/x-python",
   "name": "python",
   "nbconvert_exporter": "python",
   "pygments_lexer": "ipython3",
   "version": "3.10.8"
  }
 },
 "nbformat": 4,
 "nbformat_minor": 5
}
